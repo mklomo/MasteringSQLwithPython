{
 "cells": [
  {
   "attachments": {},
   "cell_type": "markdown",
   "metadata": {},
   "source": [
    "# Install Pandas\n",
    "\n",
    "\n",
    "## Conda\n",
    "- Install Anaconda (for Python 3) from anaconda.org\n",
    "- Launch Anaconda Prompt (or terminal) and create an environment\n",
    ">   conda create --name pandas_class python=3.8\n",
    "\n",
    "- Activate the environment\n",
    ">   conda activate pandas_class\n",
    "\n",
    "- Install Libraries\n",
    ">   conda install notebook pandas seaborn xlrd openpyxl scipy\n",
    "\n",
    "- Launch Jupyter\n",
    ">   jupyter notebook\n",
    "\n",
    "\n",
    "## Python.org\n",
    "- Install Python3\n",
    "- Launch terminal or command prompt and create virtual environment\n",
    ">   python3 -m venv env\n",
    "\n",
    "\n",
    "- Activate virtual environment\n",
    "    - Windows:\n",
    "        env\\Scripts\\activate\n",
    "\n",
    "    - Unix (Mac/Linux):\n",
    "        source env/bin/activate\n",
    "\n",
    "- Install Libraries\n",
    ">   pip install notebook pandas seaborn xlrd openpyxl scipy\n",
    "\n",
    "\n",
    "- Launch Jupyter\n",
    ">   jupyter notebook\n",
    "\n"
   ]
  },
  {
   "attachments": {},
   "cell_type": "markdown",
   "metadata": {},
   "source": [
    "## Jupyter\n",
    "\n",
    "Two modes\n",
    "\n",
    "\n",
    "### Command Mode\n",
    "- A - Insert Cell Above\n",
    "- B - Insert Cell Below\n",
    "- CTRL + Enter - Run cell\n",
    "- C, X, V - Copy, Cut, Paste\n",
    "- I,I - Interrupt Kernel\n",
    "- 0,0 - Restart Kernel\n",
    "\n",
    "\n",
    "### Edit Mode\n",
    "- TAB - Completion\n",
    "- Shift + TAB - Documentation\n",
    "- ESC - Back to command mode\n",
    "\n",
    "\n",
    "### Hints\n",
    "- Add ? to functions and methods\n",
    "- Add ?? to functions and methods to see source\n",
    "- Add cell magic to make matplotlib plots show up\n",
    "> %matplotlib inline"
   ]
  }
 ],
 "metadata": {
  "kernelspec": {
   "display_name": "practical_data_science_env",
   "language": "python",
   "name": "python3"
  },
  "language_info": {
   "name": "python",
   "version": "3.9.12 (main, Apr  4 2022, 05:22:27) [MSC v.1916 64 bit (AMD64)]"
  },
  "orig_nbformat": 4,
  "vscode": {
   "interpreter": {
    "hash": "ff07ffec6be8e65654415574640fa0404e3cc7993467f0a0ce9889968ad1102a"
   }
  }
 },
 "nbformat": 4,
 "nbformat_minor": 2
}
